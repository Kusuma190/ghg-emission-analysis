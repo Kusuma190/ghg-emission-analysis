{
 "cells": [
  {
   "cell_type": "code",
   "execution_count": 1,
   "id": "7226983c",
   "metadata": {},
   "outputs": [],
   "source": [
    "\n",
    "import pandas as pd # data analysis\n",
    "import numpy as np  # for numerical data\n",
    "import seaborn as sns # data visualization advanced\n",
    "import matplotlib.pyplot as plt # basic\n",
    "\n",
    "from sklearn.model_selection import train_test_split, GridSearchCV\n",
    "from sklearn.preprocessing import LabelEncoder, StandardScaler # Feature Scaling \n",
    "from sklearn.ensemble import RandomForestRegressor  # numeric and categoric data together\n",
    "from sklearn.metrics import mean_squared_error, r2_score\n",
    "import joblib\n",
    "import os\n"
   ]
  },
  {
   "cell_type": "code",
   "execution_count": 2,
   "id": "72b666dd",
   "metadata": {},
   "outputs": [],
   "source": [
    "excel_file = 'ghg_emissions.csv'  # Replace with actual path\n",
    "years = range(2010, 2017)\n",
    "\n",
    "# df = pd.read_excel(r\"path_data.xlsx\")"
   ]
  },
  {
   "cell_type": "code",
   "execution_count": null,
   "id": "aedd8cf5",
   "metadata": {},
   "outputs": [],
   "source": [
    "years[0]"
   ]
  }
 ],
 "metadata": {
  "kernelspec": {
   "display_name": "Python 3",
   "language": "python",
   "name": "python3"
  },
  "language_info": {
   "codemirror_mode": {
    "name": "ipython",
    "version": 3
   },
   "file_extension": ".py",
   "mimetype": "text/x-python",
   "name": "python",
   "nbconvert_exporter": "python",
   "pygments_lexer": "ipython3",
   "version": "3.12.4"
  }
 },
 "nbformat": 4,
 "nbformat_minor": 5
}
